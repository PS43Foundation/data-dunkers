{
 "cells": [
  {
   "attachments": {},
   "cell_type": "markdown",
   "metadata": {},
   "source": [
    "![top-banner](https://raw.githubusercontent.com/PS43Foundation/data-dunkers/main/docs/top-banner.jpg)\n",
    "\n",
    "<a target=\"_parent\" href=\"https://colab.research.google.com/github/PS43Foundation/data-dunkers/blob/main/notebooks/hackathon/pascal-siakam-stats-intro.ipynb\"><img src=\"https://colab.research.google.com/assets/colab-badge.svg\" alt=\"Open In Colab\"/>\n",
    "</a>\n",
    "\n",
    "<a href=\"https://hub.callysto.ca/jupyter/hub/user-redirect/git-pull?repo=https%3A%2F%2Fgithub.com%2FPS43Foundation%2Fdata-dunkers&branch=main&subPath=notebooks/hackathon/pascal-siakam-stats-intro.ipynb&depth=1\" target=\"_parent\"><img src=\"https://raw.githubusercontent.com/callysto/curriculum-notebooks/master/open-in-callysto-button.svg?sanitize=true\" width=\"123\" height=\"24\" alt=\"Open in Callysto\"/></a>\n",
    "\n",
    "<a target=\"_parent\" href=\"https://2i2c.callysto.ca/hub/user-redirect/git-pull?repo=https%3A%2F%2Fgithub.com%2FPS43Foundation%2Fdata-dunkers&branch=main&subPath=notebooks/hackathon/pascal-siakam-stats-intro.ipynb&depth=1\"><img src=\"https://2i2c.org/media/logo.svg\" width=\"30\" height=\"30\" alt=\"Open in 2i2c Hub\"/></a>"
   ]
  },
  {
   "attachments": {},
   "cell_type": "markdown",
   "metadata": {},
   "source": [
    "# Pascal Siakam Statistics\n",
    "\n",
    "## Introduction\n",
    "\n",
    "Pascal Siakam took an unconventional road to stardom. He didn't grow up playing basketball, but instead began only when he was in high school. Let's take a look at some of his career statistics (and those of his peers) to see if we can find any unique statistical characteristics.\n",
    "\n",
    "Let’s start by importing some of his stats over time from [Basektball Reference](https://www.basketball-reference.com)."
   ]
  },
  {
   "cell_type": "code",
   "execution_count": null,
   "metadata": {},
   "outputs": [],
   "source": [
    "import pandas as pd\n",
    "per_game = pd.read_html('https://www.basketball-reference.com/players/s/siakapa01.html')[2]\n",
    "per_game"
   ]
  },
  {
   "cell_type": "markdown",
   "metadata": {},
   "source": [
    "The columns in this data set are:\n",
    "\n",
    "|Column|Meaning|\n",
    "|-|-|\n",
    "|Season|If listed as single number, the year the season ended|\n",
    "|Age|Player's age on February 1 of the season|\n",
    "|Tm|Team|\n",
    "|Lg|League|\n",
    "|Pos|Position|\n",
    "|G|Games|\n",
    "|GS|Games Started|\n",
    "|MP|Minutes Played Per Game|\n",
    "|FG|Field Goals Per Game|\n",
    "|FGA|Field Goal Attempts Per Game|\n",
    "|FG%|Field Goal Percentage|\n",
    "|3P|3-Point Field Goals Per Game|\n",
    "|3PA|3-Point Field Goal Attempts Per Game|\n",
    "|3P%|3-Point Field Goal Percentage|\n",
    "|2P|2-Point Field Goals Per Game|\n",
    "|2PA|2-Point Field Goal Attempts Per Game|\n",
    "|2P%|2-Point Field Goal Percentage|\n",
    "|eFG%|Effective Field Goal Percentage (since a 3-point field goal is worth more)|\n",
    "|FT|Free Throws Per Game|\n",
    "|FTA|Free Throw Attempts Per Game|\n",
    "|FT%|Free Throw Percentage|\n",
    "|ORB|Offensive Rebounds Per Game|\n",
    "|DRB|Defensive Rebounds Per Game|\n",
    "|TRB|Total Rebounds Per Game|\n",
    "|AST|Assists Per Game|\n",
    "|STL|Steals Per Game|\n",
    "|BLK|Blocks Per Game|\n",
    "|TOV|Turnovers Per Game|\n",
    "|PF|Personal Fouls Per Game|\n",
    "|PTS|Points Per Game|\n",
    "\n",
    "We can now plot some of these stats to get a sense of how Pascal Siakam's game has changed and improved throughout his career. First of all we can visualize points per game over time."
   ]
  },
  {
   "cell_type": "code",
   "execution_count": null,
   "metadata": {},
   "outputs": [],
   "source": [
    "import plotly.express as px\n",
    "px.line(per_game, x='Age', y='PTS', title='Pascal Siakam Points per Game')"
   ]
  },
  {
   "cell_type": "markdown",
   "metadata": {},
   "source": [
    "We can also take a look at how his \"efficiency\" changes by looking at his shooting percentages for different types of shots."
   ]
  },
  {
   "cell_type": "code",
   "execution_count": null,
   "metadata": {},
   "outputs": [],
   "source": [
    "px.bar(per_game, x='Age', y=['FG%', '2P%', '3P%'], barmode='group', title='Pascal Siakam Efficiency').update_layout(yaxis_title='Percentage')"
   ]
  },
  {
   "cell_type": "markdown",
   "metadata": {},
   "source": [
    "Now let's compare Pascal to some of his contemporaries. Using the 2016 Draft Class data, we can plot a graph of the Total Career Points of the first round draft picks (top 30)."
   ]
  },
  {
   "cell_type": "code",
   "execution_count": null,
   "metadata": {},
   "outputs": [],
   "source": [
    "draft_class = pd.read_html('https://www.basketball-reference.com/draft/NBA_2016.html')[0]\n",
    "draft_class"
   ]
  },
  {
   "cell_type": "markdown",
   "metadata": {},
   "source": [
    "It looks like there are a couple of data cleaning steps required:\n",
    "\n",
    "* replace any `NaN` values with 0\n",
    "* drop rows 30 and 31, since those are column titles for Round 2\n",
    "* drop the first row of the column headers, so that we have just a single row header\n",
    "* rename the \"per game\" columns (14, 15, 16, and 17)"
   ]
  },
  {
   "cell_type": "code",
   "execution_count": null,
   "metadata": {},
   "outputs": [],
   "source": [
    "draft_class = draft_class.fillna(0)\n",
    "draft_class = draft_class.drop([30, 31]).reset_index(drop=True)\n",
    "draft_class.columns = draft_class.columns.droplevel()\n",
    "draft_class.columns = ['Rk','Pk','Tm','Player','College','Yrs','G','MP','PTS','TRB','AST','FG%','3P%','FT%','MPPG','PTSPG','TRBPG','ASTPG','WS','WS/48','BPM','VORP']\n",
    "draft_class"
   ]
  },
  {
   "cell_type": "markdown",
   "metadata": {},
   "source": [
    "We also want to make sure all the columns containing numbers are stored as [integers](https://en.wikipedia.org/wiki/Integer) or [floating point (decimal) numbers](https://en.wikipedia.org/wiki/Floating-point_arithmetic) instead of strings of characters."
   ]
  },
  {
   "cell_type": "code",
   "execution_count": null,
   "metadata": {},
   "outputs": [],
   "source": [
    "for column in draft_class.columns:\n",
    "    draft_class[column] = pd.to_numeric(draft_class[column], errors='ignore')\n",
    "draft_class.dtypes"
   ]
  },
  {
   "cell_type": "markdown",
   "metadata": {},
   "source": [
    "Here is the glossary for the columns:\n",
    "\n",
    "|Column|Meaning|\n",
    "|-|-|\n",
    "|Rk|Rank|\n",
    "|Pk|Overall Pick|\n",
    "|Tm|Team|\n",
    "|Yrs|Seasons that player has appeared in the NBA|\n",
    "|G|Games|\n",
    "|MP|Minutes Played|\n",
    "|PTS|Points|\n",
    "|TRB|Total Rebounds|\n",
    "|AST|Assists|\n",
    "|FG%|Field Goal Percentage|\n",
    "|3P%|3-Point Field Goal Percentage|\n",
    "|FT%|Free Throw Percentage|\n",
    "|MPPG|Minutes Played Per Game|\n",
    "|PTSPG|Points Per Game|\n",
    "|TRBPG|Total Rebounds Per Game|\n",
    "|ASTPG|Assists Per Game|\n",
    "|WS|Win Shares, an estimate of the number of wins contributed by a player|\n",
    "|WS/48|Win Shares Per 48 Minutes (league average is about .100)|\n",
    "|BPM|Box Plus/Minus, estimate of points per 100 possessions a player contributed above a league-average player, translated to an average team|\n",
    "|VORP|Value over Replacement Player, estimate of points per 100 TEAM possessions a player contributed above a replacement-level (-2.0) player, translated to an average team and prorated to an 82-game season|\n",
    "\n",
    "The `VORP` value also has the note \"Multiply by 2.70 to convert to wins over replacement\", so let's create a new column for that. We will multiply the column `VORP` by `2.70`."
   ]
  },
  {
   "cell_type": "code",
   "execution_count": null,
   "metadata": {},
   "outputs": [],
   "source": [
    "draft_class['WORP'] = draft_class['VORP'] * 2.70\n",
    "draft_class"
   ]
  },
  {
   "cell_type": "markdown",
   "metadata": {},
   "source": [
    "Now that we have clean data for the 2016 draft class, let's create a scatter plot of points per game versus minutes played."
   ]
  },
  {
   "cell_type": "code",
   "execution_count": null,
   "metadata": {},
   "outputs": [],
   "source": [
    "px.scatter(draft_class, x='MP', y='PTS', hover_name='Player', title='2016 NBA Draft Class Points vs Minutes Played')"
   ]
  },
  {
   "cell_type": "markdown",
   "metadata": {},
   "source": [
    "We can also color the points by the number of seasons (years) that player has played in the NBA."
   ]
  },
  {
   "cell_type": "code",
   "execution_count": null,
   "metadata": {},
   "outputs": [],
   "source": [
    "px.scatter(draft_class, x='MP', y='PTS', hover_name='Player', title='2016 NBA Draft Class Points vs Minutes Played', color='Yrs')"
   ]
  },
  {
   "cell_type": "markdown",
   "metadata": {},
   "source": [
    "It looks like a pretty linear relationship between minutes played and points, let's add a [trendline](https://en.wikipedia.org/wiki/Linear_regression) (using [ordinary least squares](https://en.wikipedia.org/wiki/Ordinary_least_squares)) to the visualization."
   ]
  },
  {
   "cell_type": "code",
   "execution_count": null,
   "metadata": {},
   "outputs": [],
   "source": [
    "px.scatter(draft_class, x='MP', y='PTS', hover_name='Player', title='2016 NBA Draft Class Points vs Minutes Played', color='Yrs', trendline='ols')"
   ]
  },
  {
   "cell_type": "markdown",
   "metadata": {},
   "source": [
    "You can add more markdown (text) and code cells to a notebook using the `+` button.\n",
    "\n",
    "Check out the [next notebook](pascal-siakam-stats-challenge.ipynb) to continue your own analysis."
   ]
  },
  {
   "cell_type": "markdown",
   "metadata": {},
   "source": [
    "[![Callysto.ca License](../../bottom-banner.jpg)](https://github.com/callysto/curriculum-notebooks/blob/master/LICENSE.md)"
   ]
  }
 ],
 "metadata": {
  "kernelspec": {
   "display_name": ".venv",
   "language": "python",
   "name": "python3"
  },
  "language_info": {
   "codemirror_mode": {
    "name": "ipython",
    "version": 3
   },
   "file_extension": ".py",
   "mimetype": "text/x-python",
   "name": "python",
   "nbconvert_exporter": "python",
   "pygments_lexer": "ipython3",
   "version": "3.10.12"
  },
  "orig_nbformat": 4
 },
 "nbformat": 4,
 "nbformat_minor": 2
}
