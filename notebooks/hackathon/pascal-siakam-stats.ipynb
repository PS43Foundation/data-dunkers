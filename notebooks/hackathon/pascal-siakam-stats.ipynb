{
 "cells": [
  {
   "attachments": {},
   "cell_type": "markdown",
   "metadata": {},
   "source": [
    "![top-banner](../../top-banner.jpg)\n",
    "\n",
    "(Open in [Callysto](https://hub.callysto.ca/jupyter/hub/user-redirect/git-pull?repo=https://github.com/pbeens/Data-Analysis&branch=main&subPath=Demos/python-continents-population.ipynb&depth=1) | [Colab](https://githubtocolab.com/pbeens/Data-Analysis/blob/main/Demos/python-continents-population.ipynb))"
   ]
  },
  {
   "attachments": {},
   "cell_type": "markdown",
   "metadata": {},
   "source": [
    "# Pascal Siakam Statistics Hackathon Introduction\n",
    "\n",
    "Pascal Siakam took an unconventional road to stardom. He didn't grow up playing basketball, but instead began only when he was in high school. Let's take a look at some of his career statistics (and those of his peers) to see if we can find any unique statistical characteristics.\n",
    "\n",
    "Let’s start by importing some of his stats over time from [Basektball Reference](https://www.basketball-reference.com)."
   ]
  },
  {
   "cell_type": "code",
   "execution_count": null,
   "metadata": {},
   "outputs": [],
   "source": [
    "import pandas as pd\n",
    "per_game = pd.read_html('https://www.basketball-reference.com/players/s/siakapa01.html')[0]\n",
    "per_game"
   ]
  },
  {
   "cell_type": "markdown",
   "metadata": {},
   "source": [
    "The columns in this data set are:\n",
    "\n",
    "|Column|Meaning|\n",
    "|-|-|\n",
    "|Season|If listed as single number, the year the season ended|\n",
    "|Age|Player's age on February 1 of the season|\n",
    "|Tm|Team|\n",
    "|Lg|League|\n",
    "|Pos|Position|\n",
    "|G|Games|\n",
    "|GS|Games Started|\n",
    "|MP|Minutes Played Per Game|\n",
    "|FG|Field Goals Per Game|\n",
    "|FGA|Field Goal Attempts Per Game|\n",
    "|FG%|Field Goal Percentage|\n",
    "|3P|3-Point Field Goals Per Game|\n",
    "|3PA|3-Point Field Goal Attempts Per Game|\n",
    "|3P%|3-Point Field Goal Percentage|\n",
    "|2P|2-Point Field Goals Per Game|\n",
    "|2PA|2-Point Field Goal Attempts Per Game|\n",
    "|2P%|2-Point Field Goal Percentage|\n",
    "|eFG%|Effective Field Goal Percentage (since a 3-point field goal is worth more)|\n",
    "|FT|Free Throws Per Game|\n",
    "|FTA|Free Throw Attempts Per Game|\n",
    "|FT%|Free Throw Percentage|\n",
    "|ORB|Offensive Rebounds Per Game|\n",
    "|DRB|Defensive Rebounds Per Game|\n",
    "|TRB|Total Rebounds Per Game|\n",
    "|AST|Assists Per Game|\n",
    "|STL|Steals Per Game|\n",
    "|BLK|Blocks Per Game|\n",
    "|TOV|Turnovers Per Game|\n",
    "|PF|Personal Fouls Per Game|\n",
    "|PTS|Points Per Game|\n",
    "\n",
    "We can now plot some of these stats to get a sense of how Pascal Siakam's game has changed and improved throughout his career. First of all we can visualize points per game over time."
   ]
  },
  {
   "cell_type": "code",
   "execution_count": null,
   "metadata": {},
   "outputs": [],
   "source": [
    "import plotly.express as px\n",
    "px.line(per_game, x='Age', y='PTS', title='Pascal Siakam Points per Game')"
   ]
  },
  {
   "cell_type": "markdown",
   "metadata": {},
   "source": [
    "We can also take a look at how his \"efficiency\" changes by looking at his shooting percentages for different types of shots."
   ]
  },
  {
   "cell_type": "code",
   "execution_count": null,
   "metadata": {},
   "outputs": [],
   "source": [
    "px.bar(per_game, x='Age', y=['FG%', '2P%', '3P%'], barmode='group', title='Pascal Siakam Efficiency').update_layout(yaxis_title='Percentage')"
   ]
  },
  {
   "cell_type": "markdown",
   "metadata": {},
   "source": [
    "Now let's compare Pascal to some of his contemporaries. Using the 2016 Draft Class data, we can plot a graph of the Total Career Points of the first round draft picks (top 30)."
   ]
  },
  {
   "cell_type": "code",
   "execution_count": null,
   "metadata": {},
   "outputs": [],
   "source": [
    "draft_class = pd.read_html('https://www.basketball-reference.com/draft/NBA_2016.html')[0]\n",
    "draft_class.columns = draft_class.columns.droplevel() # drop the first title row\n",
    "draft_class = draft_class.drop([30, 31]).reset_index(drop=True) # drop rows 30 and 31 since those are column titles for Round 2\n",
    "draft_class"
   ]
  },
  {
   "cell_type": "markdown",
   "metadata": {},
   "source": [
    "|Column|Meaning|\n",
    "|-|-|\n",
    "|Rk|Rank|\n",
    "|Pk|Overall Pick|\n",
    "|Tm|Team|\n",
    "|Yrs|Seasons that player has appeared in the NBA|\n",
    "|G|Games|\n",
    "|MP|Minutes Played|\n",
    "|PTS|Points|\n",
    "|TRB|Total Rebounds|\n",
    "|AST|Assists|\n",
    "|FG%|Field Goal Percentage|\n",
    "|3P%|3-Point Field Goal Percentage|\n",
    "|FT%|Free Throw Percentage|\n",
    "|MP|Minutes Played Per Game|\n",
    "|PTS|Points Per Game|\n",
    "|TRB|Total Rebounds Per Game|\n",
    "|AST|Assists Per Game|\n",
    "|WS|Win Shares, an estimate of the number of wins contributed by a player|\n",
    "|WS/48|Win Shares Per 48 Minutes (league average is about .100)|\n",
    "|BPM|Box Plus/Minus, estimate of points per 100 possessions a player contributed above a league-average player, translated to an average team|\n",
    "|VORP|Value over Replacement Player, estimate of points per 100 TEAM possessions a player contributed above a replacement-level (-2.0) player, translated to an average team and prorated to an 82-game season|\n",
    "\n",
    "The `VORP` value also has the note \"Multiply by 2.70 to convert to wins over replacement\", so let's create a new column for that. We will convert the column `VORP` to a [floating point (decimal) number](https://en.wikipedia.org/wiki/Floating-point_arithmetic) and muliply it by `2.70`."
   ]
  },
  {
   "cell_type": "code",
   "execution_count": null,
   "metadata": {},
   "outputs": [],
   "source": [
    "draft_class['WORP'] = draft_class['VORP'].astype(float) * 2.70\n",
    "draft_class"
   ]
  },
  {
   "cell_type": "markdown",
   "metadata": {},
   "source": [
    "Now that we have clean data for the 2016 draft class, "
   ]
  },
  {
   "cell_type": "markdown",
   "metadata": {},
   "source": [
    "[![Callysto.ca License](../../bottom-banner.jpg)](https://github.com/callysto/curriculum-notebooks/blob/master/LICENSE.md)"
   ]
  }
 ],
 "metadata": {
  "kernelspec": {
   "display_name": ".venv",
   "language": "python",
   "name": "python3"
  },
  "language_info": {
   "codemirror_mode": {
    "name": "ipython",
    "version": 3
   },
   "file_extension": ".py",
   "mimetype": "text/x-python",
   "name": "python",
   "nbconvert_exporter": "python",
   "pygments_lexer": "ipython3",
   "version": "3.10.1"
  },
  "orig_nbformat": 4
 },
 "nbformat": 4,
 "nbformat_minor": 2
}
