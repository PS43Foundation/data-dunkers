{
 "cells": [
  {
   "cell_type": "markdown",
   "metadata": {},
   "source": [
    "![top-banner](../docs/top-banner.jpg)\n",
    "\n",
    "<a href=\"https://hub.callysto.ca/jupyter/hub/user-redirect/git-pull?repo=https%3A%2F%2Fgithub.com%2FPS43Foundation%2Fdata-dunkers&branch=main&subPath=notebooks/live-stats-collection.ipynb&depth=1\" target=\"_parent\"><img src=\"https://raw.githubusercontent.com/callysto/curriculum-notebooks/master/open-in-callysto-button.svg?sanitize=true\" width=\"123\" height=\"24\" alt=\"Open in Callysto\"/></a>\n",
    "\n",
    "<a target=\"_parent\" href=\"https://colab.research.google.com/github/PS43Foundation/data-dunkers/blob/main/notebooks/live-stats-collection.ipynb\"><img src=\"https://colab.research.google.com/assets/colab-badge.svg\" alt=\"Open in Colab\"/>\n",
    "</a>\n",
    "\n",
    "<a target=\"_parent\" href=\"https://2i2c.callysto.ca/hub/user-redirect/git-pull?repo=https%3A%2F%2Fgithub.com%2FPS43Foundation%2Fdata-dunkers&branch=main&subPath=notebooks/live-stats-collection.ipynb&depth=1\"><img src=\"https://2i2c.org/media/logo.svg\" width=40 alt=\"Open in 2i2c\"/>\n",
    "</a>"
   ]
  },
  {
   "cell_type": "markdown",
   "metadata": {},
   "source": [
    "# Live Statistics Collection\n",
    "\n",
    "This notebook will allow you import and visualize statistics from the basketball shooting activity.\n",
    "\n",
    "Use [this form](https://docs.google.com/forms/d/e/1FAIpQLSfBgqnvOsSDxMIVCT3r_vyc_Hw6DlTZMaRABLdQMhw_bNhRYg/viewform) to record your data.\n",
    "\n",
    "You can view the data on [this spreadsheet](https://docs.google.com/spreadsheets/d/1peJis68KbNsD1jKwW32g3VOGCqMmdfjwGdGcpeukli8/edit?resourcekey#gid=1955284808).\n",
    "\n",
    "`▶Run` the following code cell to import the data."
   ]
  },
  {
   "cell_type": "code",
   "execution_count": null,
   "metadata": {},
   "outputs": [],
   "source": [
    "import pandas as pd\n",
    "data = pd.read_csv('https://docs.google.com/spreadsheets/d/1peJis68KbNsD1jKwW32g3VOGCqMmdfjwGdGcpeukli8/export?format=csv&gid=1955284808')\n",
    "data"
   ]
  },
  {
   "cell_type": "markdown",
   "metadata": {},
   "source": [
    "Then `▶Run` the following code cell to visualize the imported data."
   ]
  },
  {
   "cell_type": "code",
   "execution_count": null,
   "metadata": {},
   "outputs": [],
   "source": [
    "import plotly.express as px\n",
    "grouped_data = data.groupby('Shot Distance (feet)')['Shot Made?'].mean().reset_index()\n",
    "px.bar(grouped_data, x='Shot Distance (feet)', y='Shot Made?', title='Percentage of Shots Made versus Distance')"
   ]
  },
  {
   "cell_type": "markdown",
   "metadata": {},
   "source": [
    "We can filter the data to include only shots from today."
   ]
  },
  {
   "cell_type": "code",
   "execution_count": null,
   "metadata": {},
   "outputs": [],
   "source": [
    "import datetime\n",
    "today = datetime.date.today()\n",
    "data['Date'] = pd.to_datetime(data['Timestamp']).dt.date\n",
    "today_data = data[data['Date'] == today]\n",
    "today_data"
   ]
  },
  {
   "cell_type": "markdown",
   "metadata": {},
   "source": [
    "You can also filter the data to show only your shots.\n",
    "\n",
    "Change `name = 'MG'` to the name you used on the form, for example `name = 'David'` and then run the code cell."
   ]
  },
  {
   "cell_type": "code",
   "execution_count": null,
   "metadata": {},
   "outputs": [],
   "source": [
    "name = 'MG'\n",
    "\n",
    "#filtered_data = today_data[today_data['First Name'] == name]\n",
    "filtered_data = data[data['First Name'] == name]\n",
    "filtered_grouped_data = filtered_data.groupby('Shot Distance (feet)')['Shot Made?'].mean().reset_index()\n",
    "px.bar(filtered_grouped_data, x='Shot Distance (feet)', y='Shot Made?', title=f'Percentage of Shots Made by {name} versus Distance')"
   ]
  },
  {
   "cell_type": "markdown",
   "metadata": {},
   "source": [
    "[![Callysto.ca License](https://github.com/callysto/curriculum-notebooks/blob/master/callysto-notebook-banner-bottom.jpg?raw=true)](https://github.com/callysto/curriculum-notebooks/blob/master/LICENSE.md)"
   ]
  }
 ],
 "metadata": {
  "kernelspec": {
   "display_name": ".venv",
   "language": "python",
   "name": "python3"
  },
  "language_info": {
   "codemirror_mode": {
    "name": "ipython",
    "version": 3
   },
   "file_extension": ".py",
   "mimetype": "text/x-python",
   "name": "python",
   "nbconvert_exporter": "python",
   "pygments_lexer": "ipython3",
   "version": "3.10.1"
  },
  "orig_nbformat": 4
 },
 "nbformat": 4,
 "nbformat_minor": 2
}
