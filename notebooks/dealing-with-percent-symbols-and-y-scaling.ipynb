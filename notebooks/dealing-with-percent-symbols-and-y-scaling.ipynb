{
 "cells": [
  {
   "cell_type": "markdown",
   "metadata": {},
   "source": [
    "![top-banner](../top-banner.jpg)\n",
    "\n",
    "Open in \n",
    "[Callysto](https://hub.callysto.ca/jupyter/hub/user-redirect/git-pull?repo=https://github.com/pbeens/Data-Analysis&branch=main&subPath=Demos/dealing-with-percent-symbols-and-y-scaling.ipynb&depth=1) | [Colab](https://githubtocolab.com/pbeens/Data-Analysis/blob/main/Demos/dealing-with-percent-symbols-and-y-scaling.ipynb)"
   ]
  },
  {
   "cell_type": "markdown",
   "metadata": {},
   "source": [
    "# Data Cleaning - Percent Symbols"
   ]
  },
  {
   "cell_type": "code",
   "execution_count": null,
   "metadata": {},
   "outputs": [],
   "source": [
    "import pandas as pd\n",
    "import plotly.express as px\n",
    "\n",
    "# URL of the CSV file containing the data\n",
    "url = 'https://www.teamrankings.com/nba/stat/free-throw-pct/csv'\n",
    "\n",
    "# Read the first table from the website into a pandas dataframe\n",
    "free_throws_df = pd.read_html(url)[0]\n",
    "\n",
    "# Select the top 11 teams based on their rank\n",
    "top_teams_df = free_throws_df.sort_values('Rank', ascending=False).head(11)\n",
    "\n",
    "# Uncomment the next line to see the top rows\n",
    "# display(top_teams.head())\n",
    "\n",
    "# Uncomment the next line to see the column names\n",
    "# display(top_teams_df.columns)\n",
    "\n",
    "# Remove the percentage sign from each column and convert it to a float\n",
    "# example before: 29,30,Memphis,73.9%,81.0%,75.0%,74.5%,73.3%,73.4%\n",
    "# example after: 29,30,Memphis,73.9,81.0,75.0,74.5,73.3,73.4\n",
    "for column in top_teams_df.columns[2:]: # skip the first two columns\n",
    "    top_teams_df[column] = top_teams_df[column].str[:-1].astype(float)\n",
    "\n",
    "# Uncomment the next line to save the top teams to a CSV file\n",
    "# top_teams_df.to_csv('top_teams.csv')\n",
    "\n",
    "# Define the columns to be plotted on the y-axis\n",
    "# This makes it easier to visualize the plot code\n",
    "columns_to_plot = ['2021', '2022', 'Last 3', 'Last 1', 'Home', 'Away']\n",
    "\n",
    "# Create a bar chart using Plotly Express\n",
    "fig = px.bar(top_teams_df, \n",
    "             x='Team', \n",
    "             y=columns_to_plot,\n",
    "             title=\"Free Throw Team Performance\",\n",
    "             barmode='group')\n",
    "\n",
    "# Update the layout of the chart to scale the y-axis and set its range\n",
    "fig.update_layout(\n",
    "    yaxis=dict(scaleanchor=\"x\",\n",
    "               scaleratio=1,\n",
    "               range=[60, 90]))\n",
    "\n",
    "# Update the y-axis title to \"Percent (%)\"\n",
    "fig.update_yaxes(title_text=\"Percent (%)\")\n",
    "\n",
    "# Display the chart\n",
    "fig.show()\n"
   ]
  },
  {
   "cell_type": "markdown",
   "metadata": {},
   "source": [
    "[![Callysto.ca License](https://github.com/callysto/curriculum-notebooks/blob/master/callysto-notebook-banner-bottom.jpg?raw=true)](https://github.com/callysto/curriculum-notebooks/blob/master/LICENSE.md)"
   ]
  }
 ],
 "metadata": {
  "kernelspec": {
   "display_name": ".venv",
   "language": "python",
   "name": "python3"
  },
  "language_info": {
   "codemirror_mode": {
    "name": "ipython",
    "version": 3
   },
   "file_extension": ".py",
   "mimetype": "text/x-python",
   "name": "python",
   "nbconvert_exporter": "python",
   "pygments_lexer": "ipython3",
   "version": "3.10.5"
  },
  "orig_nbformat": 4
 },
 "nbformat": 4,
 "nbformat_minor": 2
}
