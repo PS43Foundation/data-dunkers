{
 "cells": [
  {
   "attachments": {},
   "cell_type": "markdown",
   "metadata": {},
   "source": [
    "![top-banner](https://raw.githubusercontent.com/PS43Foundation/data-dunkers/main/docs/top-banner.jpg)\n",
    "\n",
    "<a target=\"_parent\" href=\"https://colab.research.google.com/github/PS43Foundation/data-dunkers/blob/main/notebooks/hackathon/pascal-siakam-stats-challenge.ipynb\"><img src=\"https://colab.research.google.com/assets/colab-badge.svg\" alt=\"Open In Colab\"/>\n",
    "</a>\n",
    "\n",
    "<a href=\"https://hub.callysto.ca/jupyter/hub/user-redirect/git-pull?repo=https%3A%2F%2Fgithub.com%2FPS43Foundation%2Fdata-dunkers&branch=main&subPath=notebooks/hackathon/pascal-siakam-stats-challenge.ipynb&depth=1\" target=\"_parent\"><img src=\"https://raw.githubusercontent.com/callysto/curriculum-notebooks/master/open-in-callysto-button.svg?sanitize=true\" width=\"123\" height=\"24\" alt=\"Open in Callysto\"/></a>\n",
    "\n",
    "<a target=\"_parent\" href=\"https://2i2c.callysto.ca/hub/user-redirect/git-pull?repo=https%3A%2F%2Fgithub.com%2FPS43Foundation%2Fdata-dunkers&branch=main&subPath=notebooks/hackathon/pascal-siakam-stats-challenge.ipynb&depth=1\"><img src=\"https://2i2c.org/media/logo.svg\" width=\"30\" height=\"30\" alt=\"Open in 2i2c Hub\"/></a>"
   ]
  },
  {
   "attachments": {},
   "cell_type": "markdown",
   "metadata": {},
   "source": [
    "# Pascal Siakam Statistics\n",
    "\n",
    "Submitted by: \n",
    "\n",
    "## Introduction\n",
    "\n",
    "Pascal Siakam took an unconventional road to stardom. He didn't grow up playing basketball, but instead began only when he was in high school.\n",
    "\n",
    "In this notebook we will use statistics from [Basektball Reference](https://www.basketball-reference.com).\n",
    "\n",
    "## Challenges\n",
    "\n",
    "1. Plot some of Pascal Siakam's statistics over time, such as points per game or rebounds per game. Are there any patterns?\n",
    "1. Pascal has taken on more of a leadership role with the Toronto Raptors since they won a championship in 2019, meaning that he has more responsibility, plays more minutes, and takes more shots. Plot a graph that contains some or all of the previous stats, but also contains his Minutes Per Game. What does this tell us about how Pascal is playing now that he is the \"star\" of the team?\n",
    "1. We can also take a look at how \"efficient\" he is as he evolves by looking at his shooting percentages for different types of shots (we’ll start with 2-pointers and 3-pointers). Plot his shooting percentage by year for his career. What trends do you notice?\n",
    "1. How does Pascal Siakam's efficiency change as he becomes a superstar? Plot a graph containing his Minutes Per Game, 2 Pt % and 3 Pt % over time. What do you notice? Does a higher usage lead to a greater or lesser efficiency?\n",
    "1. If you were the General Manager and looking at these trends, what would you prioritize to maximize the talents of Pascal Siakam?\n",
    "1. Using the 2016 Draft Class, plot a graph of the Total Career Points of the first round draft picks. Is Plascal Siakam near the top?\n",
    "1. Find the top 5 total point scorers of that draft class. For each, find their player page and then plot their Points Per Game for their careers thus far."
   ]
  },
  {
   "cell_type": "code",
   "execution_count": null,
   "metadata": {},
   "outputs": [],
   "source": [
    "import pandas as pd\n",
    "import plotly.express as px\n",
    "per_game = pd.read_html('https://www.basketball-reference.com/players/s/siakapa01.html')[0]\n",
    "draft_class = pd.read_html('https://www.basketball-reference.com/draft/NBA_2016.html')[0]\n",
    "draft_class = draft_class.fillna(0)\n",
    "draft_class = draft_class.drop([30, 31]).reset_index(drop=True)\n",
    "draft_class.columns = draft_class.columns.droplevel()\n",
    "draft_class.columns = ['Rk','Pk','Tm','Player','College','Yrs','G','MP','PTS','TRB','AST','FG%','3P%','FT%','MPPG','PTSPG','TRBPG','ASTPG','WS','WS/48','BPM','VORP']\n",
    "for column in draft_class.columns:\n",
    "    draft_class[column] = pd.to_numeric(draft_class[column], errors='ignore')\n",
    "print('Libraries and data imported')"
   ]
  },
  {
   "cell_type": "markdown",
   "metadata": {},
   "source": [
    "### Pascal Siakam Per Game Columns\n",
    "\n",
    "|Column|Meaning|\n",
    "|-|-|\n",
    "|Season|If listed as single number, the year the season ended|\n",
    "|Age|Player's age on February 1 of the season|\n",
    "|Tm|Team|\n",
    "|Lg|League|\n",
    "|Pos|Position|\n",
    "|G|Games|\n",
    "|GS|Games Started|\n",
    "|MP|Minutes Played Per Game|\n",
    "|FG|Field Goals Per Game|\n",
    "|FGA|Field Goal Attempts Per Game|\n",
    "|FG%|Field Goal Percentage|\n",
    "|3P|3-Point Field Goals Per Game|\n",
    "|3PA|3-Point Field Goal Attempts Per Game|\n",
    "|3P%|3-Point Field Goal Percentage|\n",
    "|2P|2-Point Field Goals Per Game|\n",
    "|2PA|2-Point Field Goal Attempts Per Game|\n",
    "|2P%|2-Point Field Goal Percentage|\n",
    "|eFG%|Effective Field Goal Percentage (since a 3-point field goal is worth more)|\n",
    "|FT|Free Throws Per Game|\n",
    "|FTA|Free Throw Attempts Per Game|\n",
    "|FT%|Free Throw Percentage|\n",
    "|ORB|Offensive Rebounds Per Game|\n",
    "|DRB|Defensive Rebounds Per Game|\n",
    "|TRB|Total Rebounds Per Game|\n",
    "|AST|Assists Per Game|\n",
    "|STL|Steals Per Game|\n",
    "|BLK|Blocks Per Game|\n",
    "|TOV|Turnovers Per Game|\n",
    "|PF|Personal Fouls Per Game|\n",
    "|PTS|Points Per Game|\n",
    "\n",
    "### NBA 2016 Draft Class Columns\n",
    "\n",
    "|Column|Meaning|\n",
    "|-|-|\n",
    "|Rk|Rank|\n",
    "|Pk|Overall Pick|\n",
    "|Tm|Team|\n",
    "|Yrs|Seasons that player has appeared in the NBA|\n",
    "|G|Games|\n",
    "|MP|Minutes Played|\n",
    "|PTS|Points|\n",
    "|TRB|Total Rebounds|\n",
    "|AST|Assists|\n",
    "|FG%|Field Goal Percentage|\n",
    "|3P%|3-Point Field Goal Percentage|\n",
    "|FT%|Free Throw Percentage|\n",
    "|MPPG|Minutes Played Per Game|\n",
    "|PTSPG|Points Per Game|\n",
    "|TRBPG|Total Rebounds Per Game|\n",
    "|ASTPG|Assists Per Game|\n",
    "|WS|Win Shares, an estimate of the number of wins contributed by a player|\n",
    "|WS/48|Win Shares Per 48 Minutes (league average is about .100)|\n",
    "|BPM|Box Plus/Minus, estimate of points per 100 possessions a player contributed above a league-average player, translated to an average team|\n",
    "|VORP|Value over Replacement Player, estimate of points per 100 TEAM possessions a player contributed above a replacement-level (-2.0) player, translated to an average team and prorated to an 82-game season|"
   ]
  },
  {
   "cell_type": "markdown",
   "metadata": {},
   "source": [
    "## Analysis\n",
    "\n"
   ]
  },
  {
   "cell_type": "code",
   "execution_count": null,
   "metadata": {},
   "outputs": [],
   "source": []
  },
  {
   "cell_type": "markdown",
   "metadata": {},
   "source": [
    "## Reflection Questions\n",
    "\n",
    "* What is something you learned through this process?\n",
    "* What would you like to show others?\n",
    "* How can you apply your learning to future activities?"
   ]
  },
  {
   "cell_type": "markdown",
   "metadata": {},
   "source": [
    "[![Callysto.ca License](../../bottom-banner.jpg)](https://github.com/callysto/curriculum-notebooks/blob/master/LICENSE.md)"
   ]
  }
 ],
 "metadata": {
  "kernelspec": {
   "display_name": ".venv",
   "language": "python",
   "name": "python3"
  },
  "language_info": {
   "codemirror_mode": {
    "name": "ipython",
    "version": 3
   },
   "file_extension": ".py",
   "mimetype": "text/x-python",
   "name": "python",
   "nbconvert_exporter": "python",
   "pygments_lexer": "ipython3",
   "version": "3.10.12"
  },
  "orig_nbformat": 4
 },
 "nbformat": 4,
 "nbformat_minor": 2
}
