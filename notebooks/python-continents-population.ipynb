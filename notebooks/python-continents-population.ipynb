{
 "cells": [
  {
   "attachments": {},
   "cell_type": "markdown",
   "metadata": {},
   "source": [
    "This demo demonstrates how Python can be used to plot the poulations of all the countries in all the continents. \n",
    "\n",
    "(Open in [Callysto](https://hub.callysto.ca/jupyter/hub/user-redirect/git-pull?repo=https://github.com/pbeens/Data-Analysis&branch=main&subPath=Demos/python-continents-population.ipynb&depth=1) | [Colab](https://githubtocolab.com/pbeens/Data-Analysis/blob/main/Demos/python-continents-population.ipynb))"
   ]
  },
  {
   "cell_type": "code",
   "execution_count": null,
   "metadata": {},
   "outputs": [],
   "source": [
    "# Needed to save plots as png files\n",
    "!pip install kaleido -q"
   ]
  },
  {
   "attachments": {},
   "cell_type": "markdown",
   "metadata": {},
   "source": [
    "In this code, we are using a `for` loop to iterate over a list of continents. For each continent, we are loading population data for that continent using Plotly Express. We are then creating a bar chart of this data and updating the x-axis and y-axis labels. We are displaying the chart using the `show()` method and saving it as an HTML file and a PNG file using the `write_html()` and `write_image()` methods, respectively."
   ]
  },
  {
   "cell_type": "code",
   "execution_count": null,
   "metadata": {},
   "outputs": [],
   "source": [
    "import plotly.express as px\n",
    "\n",
    "# Define a list of continents\n",
    "continents = ['Africa', 'Americas', 'Asia', 'Europe', 'Oceania']\n",
    "\n",
    "# Loop through each continent\n",
    "for continent in continents:\n",
    "    # Load the data for the current continent\n",
    "    df = px.data.gapminder().query(\"year == 2007\").query(\"continent == continent\")\n",
    "    \n",
    "    # Create a bar chart of population data for the current continent\n",
    "    fig = px.bar(df, \n",
    "                 x='country', \n",
    "                 y='pop', \n",
    "                 title=continent + ' Population Data')\n",
    "    \n",
    "    # Update the x-axis and y-axis labels\n",
    "    fig.update_xaxes(title='Countries in ' + continent)\n",
    "    fig.update_yaxes(title='Population')\n",
    "    \n",
    "    # Display the chart\n",
    "    fig.show()\n",
    "    \n",
    "    # Save the chart as an HTML file\n",
    "    fig.write_html(continent + '.html')\n",
    "    \n",
    "    # Save the chart as a PNG file\n",
    "    fig.write_image(continent + '.png')\n"
   ]
  },
  {
   "attachments": {},
   "cell_type": "markdown",
   "metadata": {},
   "source": [
    "---\n",
    "\n",
    "In this code, we are using a `for` loop to iterate over a list of continents. For each continent, we are using the `os.remove()` function to delete a PNG file and an HTML file. The filenames of these files are constructed by concatenating the name of the current continent with the appropriate file extension."
   ]
  },
  {
   "cell_type": "code",
   "execution_count": null,
   "metadata": {},
   "outputs": [],
   "source": [
    "# Delete the data files!\n",
    "\n",
    "import os\n",
    "\n",
    "# Loop through each continent\n",
    "for continent in ['Africa', 'Americas', 'Asia', 'Europe', 'Oceania']:\n",
    "    # Remove the PNG file for the current continent\n",
    "    os.remove(continent + '.png')\n",
    "    \n",
    "    # Remove the HTML file for the current continent\n",
    "    os.remove(continent + '.html')\n",
    "\n"
   ]
  }
 ],
 "metadata": {
  "kernelspec": {
   "display_name": ".venv",
   "language": "python",
   "name": "python3"
  },
  "language_info": {
   "codemirror_mode": {
    "name": "ipython",
    "version": 3
   },
   "file_extension": ".py",
   "mimetype": "text/x-python",
   "name": "python",
   "nbconvert_exporter": "python",
   "pygments_lexer": "ipython3",
   "version": "3.10.5"
  },
  "orig_nbformat": 4
 },
 "nbformat": 4,
 "nbformat_minor": 2
}
