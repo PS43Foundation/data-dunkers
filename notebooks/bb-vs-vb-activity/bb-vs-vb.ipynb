{
 "cells": [
  {
   "attachments": {},
   "cell_type": "markdown",
   "metadata": {},
   "source": [
    "Demo Google Sheet Link: https://docs.google.com/spreadsheets/d/1Wd_tC5t_i7bg9qZphxsEfR26wsA1IMlQYXjsdAOEXFc/edit?usp=sharing\n",
    "\n",
    "This notebook was created live with the students, brainstorming the steps along the way.\n",
    "\n",
    "The program lines that are commented out were used during the creation of the program so we could start \"thinking like a data scientist\".\n",
    "\n",
    "Next steps could include updating the x- and y-axis titles, and adding a main title (which some students did anyways, without our prompting). We could also add new columns to calulate success percent."
   ]
  },
  {
   "cell_type": "code",
   "execution_count": null,
   "metadata": {},
   "outputs": [],
   "source": [
    "import plotly.express as px\n",
    "import pandas as pd\n",
    "\n",
    "# demo google sheet\n",
    "url = 'https://docs.google.com/spreadsheets/d/1Wd_tC5t_i7bg9qZphxsEfR26wsA1IMlQYXjsdAOEXFc/export?format=csv'\n",
    "\n",
    "df = pd.read_csv(url)\n",
    "\n",
    "# display(df.columns)\n",
    "\n",
    "# display(df)\n",
    "\n",
    "# display(df[['BFT', 'VFT']])\n",
    "\n",
    "# only graph the attempts, nto the total shots.\n",
    "fig = px.bar(df[['BFT', 'VFT']], barmode='group')\n",
    "\n",
    "fig.show()\n",
    "\n",
    "#fig.write_image('bb-vs-vb.png')"
   ]
  }
 ],
 "metadata": {
  "kernelspec": {
   "display_name": ".venv",
   "language": "python",
   "name": "python3"
  },
  "language_info": {
   "codemirror_mode": {
    "name": "ipython",
    "version": 3
   },
   "file_extension": ".py",
   "mimetype": "text/x-python",
   "name": "python",
   "nbconvert_exporter": "python",
   "pygments_lexer": "ipython3",
   "version": "3.10.5"
  },
  "orig_nbformat": 4
 },
 "nbformat": 4,
 "nbformat_minor": 2
}
